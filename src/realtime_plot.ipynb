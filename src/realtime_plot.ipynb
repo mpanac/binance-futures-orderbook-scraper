{
 "cells": [
  {
   "cell_type": "code",
   "execution_count": 49,
   "metadata": {},
   "outputs": [],
   "source": [
    "import pandas as pd\n",
    "import plotly.graph_objects as go\n",
    "from plotly.subplots import make_subplots\n",
    "import ujson\n",
    "from IPython.display import display, clear_output\n",
    "import time"
   ]
  },
  {
   "cell_type": "code",
   "execution_count": 50,
   "metadata": {},
   "outputs": [],
   "source": [
    "\n",
    "\n",
    "# Define the default values\n",
    "SYMBOL = \"BTCUSDT\"\n",
    "CANDLE_PERIOD = \"1min\"\n",
    "ORDERBOOK_DATA = f'orderbook_data/{SYMBOL}_{time.strftime(\"%Y-%m-%d\")}.parquet'"
   ]
  },
  {
   "cell_type": "code",
   "execution_count": 51,
   "metadata": {},
   "outputs": [],
   "source": [
    "\n",
    "def load_and_process_data(file_path, max_retries=5, retry_delay=0.5):\n",
    "    for attempt in range(max_retries):\n",
    "        try:\n",
    "            # Read the Parquet file\n",
    "            df = pd.read_parquet(file_path)\n",
    "            \n",
    "            # Convert timestamp to datetime (if it's not already)\n",
    "            if not pd.api.types.is_datetime64_any_dtype(df['timestamp']):\n",
    "                df['timestamp'] = pd.to_datetime(df['timestamp'], unit='ms')\n",
    "            \n",
    "            # Set timestamp as index\n",
    "            df.set_index('timestamp', inplace=True)\n",
    "            \n",
    "            # Parse bids and asks using ujson\n",
    "            df['bids'] = df['bids'].apply(ujson.loads)\n",
    "            df['asks'] = df['asks'].apply(ujson.loads)\n",
    "            \n",
    "            # Extract the best bid and ask\n",
    "            df['best_bid'] = df['bids'].apply(lambda x: float(x[0][0]))\n",
    "            df['best_ask'] = df['asks'].apply(lambda x: float(x[0][0]))\n",
    "            \n",
    "            # Calculate the mid price\n",
    "            df['mid_price'] = (df['best_bid'] + df['best_ask']) / 2\n",
    "            \n",
    "            # Resample the data to the specified candle period\n",
    "            resampled = df['mid_price'].resample(f'{CANDLE_PERIOD}').ohlc()\n",
    "            \n",
    "            return df, resampled\n",
    "        except Exception as e:\n",
    "            if attempt < max_retries - 1:\n",
    "                print(f\"Error reading file: {str(e)}, retrying in {retry_delay} seconds...\")\n",
    "                time.sleep(retry_delay)\n",
    "            else:\n",
    "                print(f\"Failed to read file after {max_retries} attempts. Error: {str(e)}\")\n",
    "                return None, None"
   ]
  },
  {
   "cell_type": "code",
   "execution_count": 52,
   "metadata": {},
   "outputs": [],
   "source": [
    "def create_plot(resampled, symbol):\n",
    "    if resampled is None:\n",
    "        return go.Figure()  # Return an empty figure if data is None\n",
    "    \n",
    "    fig = make_subplots(rows=1, cols=1, shared_xaxes=True, vertical_spacing=0.03, subplot_titles=(f'{symbol} Candlestick Chart'))\n",
    "    \n",
    "    fig.add_trace(go.Candlestick(x=resampled.index,\n",
    "                                 open=resampled['open'],\n",
    "                                 high=resampled['high'],\n",
    "                                 low=resampled['low'],\n",
    "                                 close=resampled['close'],\n",
    "                                 name='Candlesticks'))\n",
    "    \n",
    "    fig.update_layout(title=f'{symbol} {CANDLE_PERIOD} Candlestick Chart',\n",
    "                      xaxis_title='Time',\n",
    "                      yaxis_title='Price (USDT)',\n",
    "                      xaxis_rangeslider_visible=False)\n",
    "    \n",
    "    return fig\n"
   ]
  },
  {
   "cell_type": "code",
   "execution_count": 53,
   "metadata": {},
   "outputs": [],
   "source": [
    "def update_plot(symbol=SYMBOL, interval=CANDLE_PERIOD):\n",
    "    while True:\n",
    "        df, resampled = load_and_process_data(file_path=ORDERBOOK_DATA)\n",
    "        if df is not None and resampled is not None:\n",
    "            fig = create_plot(resampled, symbol)\n",
    "            \n",
    "            clear_output(wait=True)\n",
    "            display(fig)\n",
    "            \n",
    "            print(f\"Symbol: {symbol}\")\n",
    "            print(f\"Interval: {interval}\")\n",
    "            print(f\"Number of data points: {len(df)}\")\n",
    "            print(f\"Date range: {df.index.min()} to {df.index.max()}\")\n",
    "            print(f\"Average mid price: {df['mid_price'].mean():.2f}\")\n",
    "            print(f\"Number of candlesticks: {len(resampled)}\")\n",
    "        else:\n",
    "            print(\"Failed to update plot due to data reading error.\")\n",
    "        \n",
    "        # Convert interval to seconds\n",
    "        if 'min' in interval:\n",
    "            minutes = float(interval[:-3])\n",
    "            sleep_time = minutes * 60\n",
    "        elif 's' in interval:\n",
    "            sleep_time = float(interval[:-1])\n",
    "        else:\n",
    "            raise ValueError(\"Unsupported interval format. Use 'min' or 's'.\")\n",
    "        \n",
    "        time.sleep(sleep_time)"
   ]
  },
  {
   "cell_type": "code",
   "execution_count": 54,
   "metadata": {},
   "outputs": [
    {
     "name": "stdout",
     "output_type": "stream",
     "text": [
      "Error reading file: [Errno 2] No such file or directory: 'orderbook_data/BTCUSDT_2024-07-31.parquet', retrying in 0.5 seconds...\n",
      "Error reading file: [Errno 2] No such file or directory: 'orderbook_data/BTCUSDT_2024-07-31.parquet', retrying in 0.5 seconds...\n",
      "Error reading file: [Errno 2] No such file or directory: 'orderbook_data/BTCUSDT_2024-07-31.parquet', retrying in 0.5 seconds...\n"
     ]
    },
    {
     "ename": "KeyboardInterrupt",
     "evalue": "",
     "output_type": "error",
     "traceback": [
      "\u001b[0;31m---------------------------------------------------------------------------\u001b[0m",
      "\u001b[0;31mFileNotFoundError\u001b[0m                         Traceback (most recent call last)",
      "Cell \u001b[0;32mIn[51], line 5\u001b[0m, in \u001b[0;36mload_and_process_data\u001b[0;34m(file_path, max_retries, retry_delay)\u001b[0m\n\u001b[1;32m      3\u001b[0m \u001b[38;5;28;01mtry\u001b[39;00m:\n\u001b[1;32m      4\u001b[0m     \u001b[38;5;66;03m# Read the Parquet file\u001b[39;00m\n\u001b[0;32m----> 5\u001b[0m     df \u001b[38;5;241m=\u001b[39m pd\u001b[38;5;241m.\u001b[39mread_parquet(file_path)\n\u001b[1;32m      7\u001b[0m     \u001b[38;5;66;03m# Convert timestamp to datetime (if it's not already)\u001b[39;00m\n",
      "File \u001b[0;32m/opt/anaconda3/lib/python3.11/site-packages/pandas/io/parquet.py:667\u001b[0m, in \u001b[0;36mread_parquet\u001b[0;34m(path, engine, columns, storage_options, use_nullable_dtypes, dtype_backend, filesystem, filters, **kwargs)\u001b[0m\n\u001b[1;32m    665\u001b[0m check_dtype_backend(dtype_backend)\n\u001b[0;32m--> 667\u001b[0m \u001b[38;5;28;01mreturn\u001b[39;00m impl\u001b[38;5;241m.\u001b[39mread(\n\u001b[1;32m    668\u001b[0m     path,\n\u001b[1;32m    669\u001b[0m     columns\u001b[38;5;241m=\u001b[39mcolumns,\n\u001b[1;32m    670\u001b[0m     filters\u001b[38;5;241m=\u001b[39mfilters,\n\u001b[1;32m    671\u001b[0m     storage_options\u001b[38;5;241m=\u001b[39mstorage_options,\n\u001b[1;32m    672\u001b[0m     use_nullable_dtypes\u001b[38;5;241m=\u001b[39muse_nullable_dtypes,\n\u001b[1;32m    673\u001b[0m     dtype_backend\u001b[38;5;241m=\u001b[39mdtype_backend,\n\u001b[1;32m    674\u001b[0m     filesystem\u001b[38;5;241m=\u001b[39mfilesystem,\n\u001b[1;32m    675\u001b[0m     \u001b[38;5;241m*\u001b[39m\u001b[38;5;241m*\u001b[39mkwargs,\n\u001b[1;32m    676\u001b[0m )\n",
      "File \u001b[0;32m/opt/anaconda3/lib/python3.11/site-packages/pandas/io/parquet.py:267\u001b[0m, in \u001b[0;36mPyArrowImpl.read\u001b[0;34m(self, path, columns, filters, use_nullable_dtypes, dtype_backend, storage_options, filesystem, **kwargs)\u001b[0m\n\u001b[1;32m    265\u001b[0m     to_pandas_kwargs[\u001b[38;5;124m\"\u001b[39m\u001b[38;5;124msplit_blocks\u001b[39m\u001b[38;5;124m\"\u001b[39m] \u001b[38;5;241m=\u001b[39m \u001b[38;5;28;01mTrue\u001b[39;00m  \u001b[38;5;66;03m# type: ignore[assignment]\u001b[39;00m\n\u001b[0;32m--> 267\u001b[0m path_or_handle, handles, filesystem \u001b[38;5;241m=\u001b[39m _get_path_or_handle(\n\u001b[1;32m    268\u001b[0m     path,\n\u001b[1;32m    269\u001b[0m     filesystem,\n\u001b[1;32m    270\u001b[0m     storage_options\u001b[38;5;241m=\u001b[39mstorage_options,\n\u001b[1;32m    271\u001b[0m     mode\u001b[38;5;241m=\u001b[39m\u001b[38;5;124m\"\u001b[39m\u001b[38;5;124mrb\u001b[39m\u001b[38;5;124m\"\u001b[39m,\n\u001b[1;32m    272\u001b[0m )\n\u001b[1;32m    273\u001b[0m \u001b[38;5;28;01mtry\u001b[39;00m:\n",
      "File \u001b[0;32m/opt/anaconda3/lib/python3.11/site-packages/pandas/io/parquet.py:140\u001b[0m, in \u001b[0;36m_get_path_or_handle\u001b[0;34m(path, fs, storage_options, mode, is_dir)\u001b[0m\n\u001b[1;32m    131\u001b[0m \u001b[38;5;28;01mif\u001b[39;00m (\n\u001b[1;32m    132\u001b[0m     \u001b[38;5;129;01mnot\u001b[39;00m fs\n\u001b[1;32m    133\u001b[0m     \u001b[38;5;129;01mand\u001b[39;00m \u001b[38;5;129;01mnot\u001b[39;00m is_dir\n\u001b[0;32m   (...)\u001b[0m\n\u001b[1;32m    138\u001b[0m     \u001b[38;5;66;03m# fsspec resources can also point to directories\u001b[39;00m\n\u001b[1;32m    139\u001b[0m     \u001b[38;5;66;03m# this branch is used for example when reading from non-fsspec URLs\u001b[39;00m\n\u001b[0;32m--> 140\u001b[0m     handles \u001b[38;5;241m=\u001b[39m get_handle(\n\u001b[1;32m    141\u001b[0m         path_or_handle, mode, is_text\u001b[38;5;241m=\u001b[39m\u001b[38;5;28;01mFalse\u001b[39;00m, storage_options\u001b[38;5;241m=\u001b[39mstorage_options\n\u001b[1;32m    142\u001b[0m     )\n\u001b[1;32m    143\u001b[0m     fs \u001b[38;5;241m=\u001b[39m \u001b[38;5;28;01mNone\u001b[39;00m\n",
      "File \u001b[0;32m/opt/anaconda3/lib/python3.11/site-packages/pandas/io/common.py:882\u001b[0m, in \u001b[0;36mget_handle\u001b[0;34m(path_or_buf, mode, encoding, compression, memory_map, is_text, errors, storage_options)\u001b[0m\n\u001b[1;32m    880\u001b[0m \u001b[38;5;28;01melse\u001b[39;00m:\n\u001b[1;32m    881\u001b[0m     \u001b[38;5;66;03m# Binary mode\u001b[39;00m\n\u001b[0;32m--> 882\u001b[0m     handle \u001b[38;5;241m=\u001b[39m \u001b[38;5;28mopen\u001b[39m(handle, ioargs\u001b[38;5;241m.\u001b[39mmode)\n\u001b[1;32m    883\u001b[0m handles\u001b[38;5;241m.\u001b[39mappend(handle)\n",
      "\u001b[0;31mFileNotFoundError\u001b[0m: [Errno 2] No such file or directory: 'orderbook_data/BTCUSDT_2024-07-31.parquet'",
      "\nDuring handling of the above exception, another exception occurred:\n",
      "\u001b[0;31mKeyboardInterrupt\u001b[0m                         Traceback (most recent call last)",
      "Cell \u001b[0;32mIn[54], line 2\u001b[0m\n\u001b[1;32m      1\u001b[0m \u001b[38;5;66;03m# Run the update_plot function to start live updates\u001b[39;00m\n\u001b[0;32m----> 2\u001b[0m update_plot(symbol\u001b[38;5;241m=\u001b[39mSYMBOL, interval\u001b[38;5;241m=\u001b[39mCANDLE_PERIOD)\n",
      "Cell \u001b[0;32mIn[53], line 3\u001b[0m, in \u001b[0;36mupdate_plot\u001b[0;34m(symbol, interval)\u001b[0m\n\u001b[1;32m      1\u001b[0m \u001b[38;5;28;01mdef\u001b[39;00m \u001b[38;5;21mupdate_plot\u001b[39m(symbol\u001b[38;5;241m=\u001b[39mSYMBOL, interval\u001b[38;5;241m=\u001b[39mCANDLE_PERIOD):\n\u001b[1;32m      2\u001b[0m     \u001b[38;5;28;01mwhile\u001b[39;00m \u001b[38;5;28;01mTrue\u001b[39;00m:\n\u001b[0;32m----> 3\u001b[0m         df, resampled \u001b[38;5;241m=\u001b[39m load_and_process_data(file_path\u001b[38;5;241m=\u001b[39mORDERBOOK_DATA)\n\u001b[1;32m      4\u001b[0m         \u001b[38;5;28;01mif\u001b[39;00m df \u001b[38;5;129;01mis\u001b[39;00m \u001b[38;5;129;01mnot\u001b[39;00m \u001b[38;5;28;01mNone\u001b[39;00m \u001b[38;5;129;01mand\u001b[39;00m resampled \u001b[38;5;129;01mis\u001b[39;00m \u001b[38;5;129;01mnot\u001b[39;00m \u001b[38;5;28;01mNone\u001b[39;00m:\n\u001b[1;32m      5\u001b[0m             fig \u001b[38;5;241m=\u001b[39m create_plot(resampled, symbol)\n",
      "Cell \u001b[0;32mIn[51], line 32\u001b[0m, in \u001b[0;36mload_and_process_data\u001b[0;34m(file_path, max_retries, retry_delay)\u001b[0m\n\u001b[1;32m     30\u001b[0m \u001b[38;5;28;01mif\u001b[39;00m attempt \u001b[38;5;241m<\u001b[39m max_retries \u001b[38;5;241m-\u001b[39m \u001b[38;5;241m1\u001b[39m:\n\u001b[1;32m     31\u001b[0m     \u001b[38;5;28mprint\u001b[39m(\u001b[38;5;124mf\u001b[39m\u001b[38;5;124m\"\u001b[39m\u001b[38;5;124mError reading file: \u001b[39m\u001b[38;5;132;01m{\u001b[39;00m\u001b[38;5;28mstr\u001b[39m(e)\u001b[38;5;132;01m}\u001b[39;00m\u001b[38;5;124m, retrying in \u001b[39m\u001b[38;5;132;01m{\u001b[39;00mretry_delay\u001b[38;5;132;01m}\u001b[39;00m\u001b[38;5;124m seconds...\u001b[39m\u001b[38;5;124m\"\u001b[39m)\n\u001b[0;32m---> 32\u001b[0m     time\u001b[38;5;241m.\u001b[39msleep(retry_delay)\n\u001b[1;32m     33\u001b[0m \u001b[38;5;28;01melse\u001b[39;00m:\n\u001b[1;32m     34\u001b[0m     \u001b[38;5;28mprint\u001b[39m(\u001b[38;5;124mf\u001b[39m\u001b[38;5;124m\"\u001b[39m\u001b[38;5;124mFailed to read file after \u001b[39m\u001b[38;5;132;01m{\u001b[39;00mmax_retries\u001b[38;5;132;01m}\u001b[39;00m\u001b[38;5;124m attempts. Error: \u001b[39m\u001b[38;5;132;01m{\u001b[39;00m\u001b[38;5;28mstr\u001b[39m(e)\u001b[38;5;132;01m}\u001b[39;00m\u001b[38;5;124m\"\u001b[39m)\n",
      "\u001b[0;31mKeyboardInterrupt\u001b[0m: "
     ]
    }
   ],
   "source": [
    "# Run the update_plot function to start live updates\n",
    "update_plot(symbol=SYMBOL, interval=CANDLE_PERIOD)"
   ]
  }
 ],
 "metadata": {
  "kernelspec": {
   "display_name": "base",
   "language": "python",
   "name": "python3"
  },
  "language_info": {
   "codemirror_mode": {
    "name": "ipython",
    "version": 3
   },
   "file_extension": ".py",
   "mimetype": "text/x-python",
   "name": "python",
   "nbconvert_exporter": "python",
   "pygments_lexer": "ipython3",
   "version": "3.11.7"
  }
 },
 "nbformat": 4,
 "nbformat_minor": 2
}
