{
 "cells": [
  {
   "cell_type": "code",
   "execution_count": 1,
   "metadata": {},
   "outputs": [],
   "source": [
    "import pandas as pd\n",
    "import plotly.graph_objects as go\n",
    "from plotly.subplots import make_subplots\n",
    "import ujson\n",
    "from IPython.display import display, clear_output\n",
    "import time"
   ]
  },
  {
   "cell_type": "code",
   "execution_count": 2,
   "metadata": {},
   "outputs": [],
   "source": [
    "# Define the default values\n",
    "SYMBOL = \"BTCUSDT\"\n",
    "CANDLE_PERIOD = \"5min\"\n",
    "ORDERBOOK_DATA = f'orderbook_data/{SYMBOL}_{time.strftime(\"%Y-%m-%d\")}.parquet'"
   ]
  },
  {
   "cell_type": "code",
   "execution_count": 3,
   "metadata": {},
   "outputs": [],
   "source": [
    "\n",
    "def load_and_process_data(file_path, max_retries=5, retry_delay=0.5):\n",
    "    for attempt in range(max_retries):\n",
    "        try:\n",
    "            # Read the Parquet file\n",
    "            df = pd.read_parquet(file_path)\n",
    "            \n",
    "            # Convert timestamp to datetime (if it's not already)\n",
    "            if not pd.api.types.is_datetime64_any_dtype(df['timestamp']):\n",
    "                df['timestamp'] = pd.to_datetime(df['timestamp'], unit='ms')\n",
    "            \n",
    "            # Set timestamp as index\n",
    "            df.set_index('timestamp', inplace=True)\n",
    "            \n",
    "            # Parse bids and asks using ujson\n",
    "            df['bids'] = df['bids'].apply(ujson.loads)\n",
    "            df['asks'] = df['asks'].apply(ujson.loads)\n",
    "            \n",
    "            # Extract the best bid and ask\n",
    "            df['best_bid'] = df['bids'].apply(lambda x: float(x[0][0]))\n",
    "            df['best_ask'] = df['asks'].apply(lambda x: float(x[0][0]))\n",
    "            \n",
    "            # Calculate the mid price\n",
    "            df['mid_price'] = (df['best_bid'] + df['best_ask']) / 2\n",
    "            \n",
    "            # Resample the data to the specified candle period\n",
    "            resampled = df['mid_price'].resample(f'{CANDLE_PERIOD}').ohlc()\n",
    "            \n",
    "            return df, resampled\n",
    "        except Exception as e:\n",
    "            if attempt < max_retries - 1:\n",
    "                print(f\"Error reading file: {str(e)}, retrying in {retry_delay} seconds...\")\n",
    "                time.sleep(retry_delay)\n",
    "            else:\n",
    "                print(f\"Failed to read file after {max_retries} attempts. Error: {str(e)}\")\n",
    "                return None, None"
   ]
  },
  {
   "cell_type": "code",
   "execution_count": 4,
   "metadata": {},
   "outputs": [],
   "source": [
    "def create_plot(resampled, symbol):\n",
    "    if resampled is None:\n",
    "        return go.Figure()  # Return an empty figure if data is None\n",
    "    \n",
    "    fig = make_subplots(rows=1, cols=1, shared_xaxes=True, vertical_spacing=0.03, subplot_titles=(f'{symbol} Candlestick Chart'))\n",
    "    \n",
    "    fig.add_trace(go.Candlestick(x=resampled.index,\n",
    "                                 open=resampled['open'],\n",
    "                                 high=resampled['high'],\n",
    "                                 low=resampled['low'],\n",
    "                                 close=resampled['close'],\n",
    "                                 name='Candlesticks'))\n",
    "    \n",
    "    fig.update_layout(title=f'{symbol} {CANDLE_PERIOD} Candlestick Chart',\n",
    "                      xaxis_title='Time',\n",
    "                      yaxis_title='Price (USDT)',\n",
    "                      xaxis_rangeslider_visible=False)\n",
    "    \n",
    "    return fig\n"
   ]
  },
  {
   "cell_type": "code",
   "execution_count": 5,
   "metadata": {},
   "outputs": [],
   "source": [
    "def update_plot(symbol=SYMBOL, interval=CANDLE_PERIOD):\n",
    "    while True:\n",
    "        orderbook_data = f'orderbook_data/{symbol}_{time.strftime(\"%Y-%m-%d\")}.parquet'\n",
    "        df, resampled = load_and_process_data(file_path=orderbook_data)\n",
    "        if df is not None and resampled is not None:\n",
    "            fig = create_plot(resampled, symbol)\n",
    "            \n",
    "            clear_output(wait=True)\n",
    "            display(fig)\n",
    "            \n",
    "            print(f\"Symbol: {symbol}\")\n",
    "            print(f\"Interval: {interval}\")\n",
    "            print(f\"Number of data points: {len(df)}\")\n",
    "            print(f\"Date range: {df.index.min()} to {df.index.max()}\")\n",
    "            print(f\"Average mid price: {df['mid_price'].mean():.2f}\")\n",
    "            print(f\"Number of candlesticks: {len(resampled)}\")\n",
    "        else:\n",
    "            print(\"Failed to update plot due to data reading error.\")\n",
    "        \n",
    "        time.sleep(int(interval[:-3]) * 60)  # Convert interval to seconds"
   ]
  },
  {
   "cell_type": "code",
   "execution_count": 6,
   "metadata": {},
   "outputs": [
    {
     "name": "stdout",
     "output_type": "stream",
     "text": [
      "Error reading file: [Errno 2] No such file or directory: 'orderbook_data/BTCUSDT_2024-07-31.parquet', retrying in 0.5 seconds...\n",
      "Error reading file: [Errno 2] No such file or directory: 'orderbook_data/BTCUSDT_2024-07-31.parquet', retrying in 0.5 seconds...\n",
      "Error reading file: [Errno 2] No such file or directory: 'orderbook_data/BTCUSDT_2024-07-31.parquet', retrying in 0.5 seconds...\n",
      "Error reading file: [Errno 2] No such file or directory: 'orderbook_data/BTCUSDT_2024-07-31.parquet', retrying in 0.5 seconds...\n",
      "Failed to read file after 5 attempts. Error: [Errno 2] No such file or directory: 'orderbook_data/BTCUSDT_2024-07-31.parquet'\n",
      "Failed to update plot due to data reading error.\n",
      "Error reading file: [Errno 2] No such file or directory: 'orderbook_data/BTCUSDT_2024-07-31.parquet', retrying in 0.5 seconds...\n",
      "Error reading file: [Errno 2] No such file or directory: 'orderbook_data/BTCUSDT_2024-07-31.parquet', retrying in 0.5 seconds...\n",
      "Error reading file: [Errno 2] No such file or directory: 'orderbook_data/BTCUSDT_2024-07-31.parquet', retrying in 0.5 seconds...\n",
      "Error reading file: [Errno 2] No such file or directory: 'orderbook_data/BTCUSDT_2024-07-31.parquet', retrying in 0.5 seconds...\n",
      "Failed to read file after 5 attempts. Error: [Errno 2] No such file or directory: 'orderbook_data/BTCUSDT_2024-07-31.parquet'\n",
      "Failed to update plot due to data reading error.\n"
     ]
    }
   ],
   "source": [
    "# Run the update_plot function to start live updates\n",
    "update_plot(symbol=SYMBOL, interval=CANDLE_PERIOD)"
   ]
  }
 ],
 "metadata": {
  "kernelspec": {
   "display_name": "base",
   "language": "python",
   "name": "python3"
  },
  "language_info": {
   "codemirror_mode": {
    "name": "ipython",
    "version": 3
   },
   "file_extension": ".py",
   "mimetype": "text/x-python",
   "name": "python",
   "nbconvert_exporter": "python",
   "pygments_lexer": "ipython3",
   "version": "3.11.7"
  }
 },
 "nbformat": 4,
 "nbformat_minor": 2
}
